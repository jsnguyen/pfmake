{
 "cells": [
  {
   "cell_type": "code",
   "execution_count": 1,
   "metadata": {},
   "outputs": [],
   "source": [
    "from exif import Image"
   ]
  },
  {
   "cell_type": "code",
   "execution_count": null,
   "metadata": {},
   "outputs": [],
   "source": [
    "from exif import "
   ]
  },
  {
   "cell_type": "code",
   "execution_count": 2,
   "metadata": {},
   "outputs": [],
   "source": [
    "#filename = '/Users/jsn/Desktop/2020-09-26_Santa_Cruz_and_Beach/D610/JPG/DSC_5317.JPG'\n",
    "\n",
    "filename = '/Users/jsn/Desktop/2020-09-27_San_Francisco/DJI_Mavic_Mini/JPG/DJI_0281.JPG'\n"
   ]
  },
  {
   "cell_type": "code",
   "execution_count": 3,
   "metadata": {},
   "outputs": [],
   "source": [
    "with open(filename, 'rb') as image_file:\n",
    "    my_image = Image(image_file)"
   ]
  },
  {
   "cell_type": "code",
   "execution_count": 5,
   "metadata": {},
   "outputs": [
    {
     "name": "stderr",
     "output_type": "stream",
     "text": [
      "<ipython-input-5-06d2bb4e12df>:1: RuntimeWarning: ASCII tag contains 26 fewer bytes than specified\n",
      "  my_image.make\n"
     ]
    },
    {
     "data": {
      "text/plain": [
       "'DJI'"
      ]
     },
     "execution_count": 5,
     "metadata": {},
     "output_type": "execute_result"
    }
   ],
   "source": [
    "my_image.make"
   ]
  },
  {
   "cell_type": "code",
   "execution_count": 6,
   "metadata": {},
   "outputs": [
    {
     "name": "stderr",
     "output_type": "stream",
     "text": [
      "<ipython-input-6-7ff5ce51e129>:1: RuntimeWarning: ASCII tag contains 23 fewer bytes than specified\n",
      "  my_image.model\n"
     ]
    },
    {
     "data": {
      "text/plain": [
       "'FC7203'"
      ]
     },
     "execution_count": 6,
     "metadata": {},
     "output_type": "execute_result"
    }
   ],
   "source": [
    "my_image.model"
   ]
  },
  {
   "cell_type": "code",
   "execution_count": 7,
   "metadata": {},
   "outputs": [
    {
     "data": {
      "text/plain": [
       "['_exif_ifd_pointer',\n",
       " '_gps_ifd_pointer',\n",
       " '_interoperability_ifd_Pointer',\n",
       " '_segments',\n",
       " 'aperture_value',\n",
       " 'body_serial_number',\n",
       " 'color_space',\n",
       " 'components_configuration',\n",
       " 'compressed_bits_per_pixel',\n",
       " 'compression',\n",
       " 'contrast',\n",
       " 'custom_rendered',\n",
       " 'datetime',\n",
       " 'datetime_digitized',\n",
       " 'datetime_original',\n",
       " 'delete',\n",
       " 'delete_all',\n",
       " 'digital_zoom_ratio',\n",
       " 'exif_version',\n",
       " 'exposure_bias_value',\n",
       " 'exposure_index',\n",
       " 'exposure_mode',\n",
       " 'exposure_program',\n",
       " 'exposure_time',\n",
       " 'f_number',\n",
       " 'file_source',\n",
       " 'flash',\n",
       " 'flashpix_version',\n",
       " 'focal_length',\n",
       " 'focal_length_in_35mm_film',\n",
       " 'gain_control',\n",
       " 'get',\n",
       " 'get_file',\n",
       " 'get_thumbnail',\n",
       " 'gps_altitude',\n",
       " 'gps_altitude_ref',\n",
       " 'gps_latitude',\n",
       " 'gps_latitude_ref',\n",
       " 'gps_longitude',\n",
       " 'gps_longitude_ref',\n",
       " 'gps_version_id',\n",
       " 'has_exif',\n",
       " 'image_description',\n",
       " 'jpeg_interchange_format',\n",
       " 'jpeg_interchange_format_length',\n",
       " 'light_source',\n",
       " 'make',\n",
       " 'maker_note',\n",
       " 'max_aperture_value',\n",
       " 'metering_mode',\n",
       " 'model',\n",
       " 'orientation',\n",
       " 'photographic_sensitivity',\n",
       " 'pixel_x_dimension',\n",
       " 'pixel_y_dimension',\n",
       " 'resolution_unit',\n",
       " 'saturation',\n",
       " 'scene_capture_type',\n",
       " 'scene_type',\n",
       " 'sharpness',\n",
       " 'shutter_speed_value',\n",
       " 'software',\n",
       " 'subject_distance',\n",
       " 'subject_distance_range',\n",
       " 'white_balance',\n",
       " 'x_resolution',\n",
       " 'xp_comment',\n",
       " 'xp_keywords',\n",
       " 'y_and_c_positioning',\n",
       " 'y_resolution']"
      ]
     },
     "execution_count": 7,
     "metadata": {},
     "output_type": "execute_result"
    }
   ],
   "source": [
    "dir(my_image)"
   ]
  },
  {
   "cell_type": "code",
   "execution_count": 55,
   "metadata": {},
   "outputs": [],
   "source": [
    "import subprocess\n",
    "import os\n",
    "import json\n",
    "\n",
    "class ExifTool(object):\n",
    "\n",
    "    sentinel = \"{ready}\\n\"\n",
    "\n",
    "    def __init__(self, executable=\"/usr/local/bin/exiftool\"):\n",
    "        self.executable = executable\n",
    "\n",
    "    def __enter__(self):\n",
    "        self.process = subprocess.Popen(\n",
    "        [self.executable, \"-stay_open\", \"True\",  \"-@\", \"-\"],\n",
    "        universal_newlines=True,\n",
    "        stdin=subprocess.PIPE, stdout=subprocess.PIPE)\n",
    "        return self\n",
    "\n",
    "    def  __exit__(self, exc_type, exc_value, traceback):\n",
    "        self.process.stdin.write(\"-stay_open\\nFalse\\n\")\n",
    "        self.process.stdin.flush()\n",
    "\n",
    "    def execute(self, *args):\n",
    "        args = args + (\"-execute\\n\",)\n",
    "        self.process.stdin.write(str.join(\"\\n\", args))\n",
    "        self.process.stdin.flush()\n",
    "        output = \"\"\n",
    "        fd = self.process.stdout.fileno()\n",
    "        while not output.endswith(self.sentinel):\n",
    "            output += os.read(fd, 4096).decode('utf-8')\n",
    "        return output[:-len(self.sentinel)]\n",
    "\n",
    "    def get_metadata(self, *filenames):\n",
    "        return json.loads(self.execute(\"-G\", \"-j\", \"-n\", *filenames))"
   ]
  },
  {
   "cell_type": "code",
   "execution_count": 60,
   "metadata": {},
   "outputs": [],
   "source": [
    "filenames = ['/Users/jsn/Desktop/2020-09-27_San_Francisco/DJI_Mavic_Mini/Videos/DJI_0280.MP4','/Users/jsn/Desktop/2020-09-26_Santa_Cruz_and_Beach/DJI_Osmo_Mini/Videos/DJI_0264.MP4']"
   ]
  },
  {
   "cell_type": "code",
   "execution_count": 62,
   "metadata": {},
   "outputs": [
    {
     "name": "stdout",
     "output_type": "stream",
     "text": [
      "('/Users/jsn/Desktop/2020-09-27_San_Francisco/DJI_Mavic_Mini/Videos/DJI_0280.MP4',)\n",
      "FC7203\n",
      "('/Users/jsn/Desktop/2020-09-26_Santa_Cruz_and_Beach/DJI_Osmo_Mini/Videos/DJI_0264.MP4',)\n",
      "Osmo Pocket\n"
     ]
    }
   ],
   "source": [
    "with ExifTool() as e:\n",
    "    for f in filenames:\n",
    "        metadata = e.get_metadata(f)\n",
    "        print(metadata[0]['QuickTime:Model'])\n"
   ]
  }
 ],
 "metadata": {
  "kernelspec": {
   "display_name": "Python 3",
   "language": "python",
   "name": "python3"
  },
  "language_info": {
   "codemirror_mode": {
    "name": "ipython",
    "version": 3
   },
   "file_extension": ".py",
   "mimetype": "text/x-python",
   "name": "python",
   "nbconvert_exporter": "python",
   "pygments_lexer": "ipython3",
   "version": "3.8.5"
  }
 },
 "nbformat": 4,
 "nbformat_minor": 4
}
